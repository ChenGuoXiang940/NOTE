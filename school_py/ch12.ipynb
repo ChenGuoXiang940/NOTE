{
 "cells": [
  {
   "cell_type": "markdown",
   "metadata": {},
   "source": [
    "## 第十二章 習題"
   ]
  },
  {
   "cell_type": "markdown",
   "metadata": {},
   "source": [
    "## 12.1 Pandas的基本認識"
   ]
  },
  {
   "cell_type": "markdown",
   "metadata": {},
   "source": [
    "## 1.設𝑙𝑠𝑡=[95,77,98,65]，試以𝑙𝑠𝑡建立一個Series物件𝑠，然後依序完成下列各題： "
   ]
  },
  {
   "cell_type": "code",
   "execution_count": null,
   "metadata": {},
   "outputs": [],
   "source": [
    "#(a)試查詢s的型別、形狀和元素的個數。\n",
    "#(b)提取s中，所引為0和2的元素。\n",
    "#(c)提取s中，除了第一個元素外的其他元素。\n",
    "#(d)將s的索引從流水編號改為字元a、b、c、d。\n",
    "#(e)提取s中，奇數的元素。\n",
    "#(f)將s裡的偶數設為100。"
   ]
  },
  {
   "cell_type": "markdown",
   "metadata": {},
   "source": [
    "## 2.設字典𝑑𝑖𝑐0的鍵值分別為'Apple' ，'Orange'，'Pinapple'值分別為25,36,62，其中鍵值表品項，值代表價錢。試以dic0建立一個Series物件s，然後依序完成下列各題:"
   ]
  },
  {
   "cell_type": "code",
   "execution_count": null,
   "metadata": {},
   "outputs": [],
   "source": [
    "#(a)提取價格大於50的品項\n",
    "#(b)計算s中，Apple和Orange的總價格和。\n",
    "#(c)試由字典dict0建立一個Series s2，並指定索引為'Orange'、'Kiwi'、'Apple'。\n",
    "#(d)試找出s2中，值有缺失的品項，並將它們的值設為30，然後設定給s3存放。\n",
    "#(e)將s2中缺失值捨去。\n",
    "#(f)試計算s3與s2的加總。有哪些品項的值為NaN?為什麼會得到NaN這個結果?"
   ]
  },
  {
   "cell_type": "markdown",
   "metadata": {},
   "source": [
    "## 3.𝑎𝑟𝑟=[[78,34,29,76],[12,40,12,90],[33,10,65,20]]，試依序作答下列問題："
   ]
  },
  {
   "cell_type": "code",
   "execution_count": null,
   "metadata": {},
   "outputs": [],
   "source": [
    "#(a)以arr建立一個DataFrame物件d。\n",
    "#(b)顯示d的後兩筆資料。\n",
    "#(c)設定d的列索引為a,b,c，欄位引為w,x,y,z。\n",
    "#(d)提取d的前3個欄位引(即w、x、y)，並將他們轉換成串列。\n",
    "#(e)提取列索引為b，欄位引為y的元素。"
   ]
  },
  {
   "cell_type": "markdown",
   "metadata": {},
   "source": [
    "## 12.2 Series和DataFrame的運算"
   ]
  },
  {
   "cell_type": "markdown",
   "metadata": {},
   "source": [
    "## 4.設𝑠=pd.Series([77,34,78,20,12,35]) ，是依序作答下列各題："
   ]
  },
  {
   "cell_type": "code",
   "execution_count": null,
   "metadata": {},
   "outputs": [],
   "source": [
    "#(a)提取s中，所引為0和2和3的元素。\n",
    "#(b)提取s的後3個元素。\n",
    "#(c)提取s中，大於60的元素。\n",
    "#(d)提取s中的偶數，並將它們平均。\n",
    "#(e)計算s+s^2、s*s^2、s^2/(2*s)。"
   ]
  },
  {
   "cell_type": "markdown",
   "metadata": {},
   "source": [
    "## 5.設𝑑𝑖𝑐0={'Java':  [87,65,26,89,67], 'C++': [63,98,66,89,80], 'Python': [78,25,76,43,69]}，是依序作答下列各題："
   ]
  },
  {
   "cell_type": "code",
   "execution_count": null,
   "metadata": {},
   "outputs": [],
   "source": [
    "#(a)試以字典dic0建立一個DataFrame物件d。\n",
    "#(b)以字串串列['Tom','Bob','Tim','Wien','Lily']作為d的列索引。"
   ]
  },
  {
   "cell_type": "markdown",
   "metadata": {},
   "source": [
    "## 6.接續習題5建立的DataFrame物件d，是依序作答下列各題："
   ]
  },
  {
   "cell_type": "code",
   "execution_count": null,
   "metadata": {},
   "outputs": [],
   "source": [
    "#(a)提取Tim和Wien的所有成績。\n",
    "#(b)提取所有學生的Python成績。\n",
    "#(c)提取Lily的Python成績。\n",
    "#(d)提取Tom的Python和C++的成績。\n",
    "#(e)提取所有學生的Python和C++的成績。"
   ]
  },
  {
   "cell_type": "markdown",
   "metadata": {},
   "source": [
    "## 7.接續習題5建立的DataFrame物件d，是依序作答下列各題："
   ]
  },
  {
   "cell_type": "code",
   "execution_count": null,
   "metadata": {},
   "outputs": [],
   "source": [
    "#(a)列出Python大於等於60分的學生。\n",
    "#(b)列出所有科目都大於等於60分的學生。\n",
    "#(c)列出Python小於60分的學生。\n",
    "#(d)列出Tim所有大於等於60分的科目。\n",
    "#(e)列出所有學生都及格的科目。"
   ]
  },
  {
   "cell_type": "markdown",
   "metadata": {},
   "source": [
    "## 8.接續習題5建立的DataFrame物件d，試依續作答下列各題："
   ]
  },
  {
   "cell_type": "code",
   "execution_count": null,
   "metadata": {},
   "outputs": [],
   "source": [
    "#(a)將d的欄位引順序改為Python、C++、Java，並把結果設給d2存放。\n",
    "#(b)將d2的列索引按學生名字之英文字母的次序排序，並把結果設給d3存放。\n",
    "#(c)使用copy()函數將d3複製給d4。於d4中，將Wien的Python成績改為60。\n",
    "#(d)將d3拷貝一份給d5。於d5中，將每位學生的成績加10分，超過99分以99分計。\n",
    "#(e)將d3拷貝一份給d6。於d6中，將每位學生的成績開根號乘以10之後四捨五入到整數，然後列出任一科目少於60分的學生。"
   ]
  },
  {
   "cell_type": "markdown",
   "metadata": {},
   "source": [
    "## 12.3排序與統計函數"
   ]
  },
  {
   "cell_type": "markdown",
   "metadata": {},
   "source": [
    "## 9.設𝑠=pd.Series([34, 35, 12, 88, 99, 16], index=list('abcdef'))，依序作答下列各題： "
   ]
  },
  {
   "cell_type": "code",
   "execution_count": null,
   "metadata": {},
   "outputs": [],
   "source": [
    "#(a)試將s由大到小排序。\n",
    "#(b)試將s依其索引從f到a排序。"
   ]
  },
  {
   "cell_type": "markdown",
   "metadata": {},
   "source": [
    "## 10.設𝑑=pd.DataFrame([[4,5,3], [3,9,1]], columns=['M', 'L', 'XL'], index=['a', 'b'])，試依序作答下列各題："
   ]
  },
  {
   "cell_type": "code",
   "execution_count": null,
   "metadata": {},
   "outputs": [],
   "source": [
    "#(a)將索引值為a之列的元素值由大到小排序，然後以此結果排序d的每一欄。\n",
    "#(b)將d以欄列引的字元編碼順序來排序(編碼小的排在前面)。\n",
    "#(c)將d以列列引的字元編碼順序反向排序(編碼大的排在前面)。"
   ]
  },
  {
   "cell_type": "markdown",
   "metadata": {},
   "source": [
    "## 11.設𝑑=pd.DataFrame([[40, 50, 36], [12, 19, 21]], columns=['a', 'b', 'c'])，試依序作答下列各題："
   ]
  },
  {
   "cell_type": "code",
   "execution_count": null,
   "metadata": {},
   "outputs": [],
   "source": [
    "#(a)分別計算d的每一列和每一欄的平均值。\n",
    "#(b)計算d中，所有元素的加總。\n",
    "#(c)計算d每一欄之元素的標準差。"
   ]
  },
  {
   "cell_type": "markdown",
   "metadata": {},
   "source": [
    "## 12.4 Pandas的繪圖函數"
   ]
  },
  {
   "cell_type": "markdown",
   "metadata": {},
   "source": [
    "## 12.設𝑠=pd.Series([28, 88, 12, 76, 89], index=list('abcde'))，試利用Series物件𝑠呼叫plot()來繪出圓餅圖，在圓餅圖的每一個份額標上百分點比例到小數點以下第一位。"
   ]
  },
  {
   "cell_type": "markdown",
   "metadata": {},
   "source": [
    "## 13. 試將上題改以長條圖來繪製，圖形標題為'Bar chart' 。"
   ]
  },
  {
   "cell_type": "markdown",
   "metadata": {},
   "source": [
    "## 12.5存取csv檔與pickle檔"
   ]
  },
  {
   "cell_type": "markdown",
   "metadata": {},
   "source": [
    "## 14.設𝑠=pd.Series([34,76,33,78],index = list('abcd'))，依序作答下列各題："
   ]
  },
  {
   "cell_type": "code",
   "execution_count": null,
   "metadata": {},
   "outputs": [],
   "source": [
    "#(a)試將s寫入csv檔，檔名為test.csv。寫入之後，試讀取test.csv的內容。\n",
    "#(b)試將s寫入pickle檔，檔名為test.pkl。寫入之後，試讀取test.pkl的內容。"
   ]
  },
  {
   "cell_type": "markdown",
   "metadata": {},
   "source": [
    "## 15.設𝑑=pd.DataFrame([[4, 5, 3, 2], [3, 9, 1, 8]], columns=['S', 'M', 'L', 'XL'], index=['a', 'b'])，試依序作答下列各題："
   ]
  },
  {
   "cell_type": "code",
   "execution_count": null,
   "metadata": {},
   "outputs": [],
   "source": [
    "#(a)試將d寫入csv檔(包含列索引和欄索引)，檔名為size.csv。寫入之後，試讀取size.csv的內容以驗證正確性。\n",
    "#(b)試將d寫入一個csv檔，但不包含列索引和欄索引，檔名為size2.csv。寫入之後，試讀取size2.csv的內容，將讀取的內容設為g，並為g添加上列索引a、b和欄索引S、M、L和XL。\n",
    "#(c)試將dㄒ寫入一個pickle檔，檔名為size.pkl。寫入之後，試讀取size.pkl這個檔案，看得到的結果是否與d相同。"
   ]
  }
 ],
 "metadata": {
  "language_info": {
   "name": "python"
  }
 },
 "nbformat": 4,
 "nbformat_minor": 2
}
