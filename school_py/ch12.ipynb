{
 "cells": [
  {
   "cell_type": "markdown",
   "metadata": {},
   "source": [
    "## 第十二章 習題"
   ]
  },
  {
   "cell_type": "markdown",
   "metadata": {},
   "source": [
    "## 12.1 Pandas的基本認識"
   ]
  },
  {
   "cell_type": "markdown",
   "metadata": {},
   "source": [
    "## 1.設𝑙𝑠𝑡=[95,77,98,65]，試以𝑙𝑠𝑡建立一個Series物件𝑠，然後依序完成下列各題： "
   ]
  },
  {
   "cell_type": "code",
   "execution_count": 21,
   "metadata": {},
   "outputs": [
    {
     "name": "stdout",
     "output_type": "stream",
     "text": [
      "int64\n",
      "(4,)\n",
      "4\n",
      "95 98\n",
      "1    77\n",
      "2    98\n",
      "3    65\n",
      "dtype: int64\n",
      "a    95\n",
      "b    77\n",
      "d    65\n",
      "dtype: int64\n"
     ]
    }
   ],
   "source": [
    "import pandas as pd\n",
    "import numpy as np\n",
    "lst=[95,77,98,65]\n",
    "s=pd.Series(lst)\n",
    "#(a)試查詢s的型別、形狀和元素的個數。\n",
    "print(s.dtype)\n",
    "print(s.shape)\n",
    "print(s.size)\n",
    "#(b)提取s中，所引為0和2的元素。\n",
    "print(s[0],s[2])\n",
    "#(c)提取s中，除了第一個元素外的其他元素。\n",
    "print(s[1:])\n",
    "#(d)將s的索引從流水編號改為字元a、b、c、d。\n",
    "s.index=['a','b','c','d']\n",
    "#(e)提取s中，奇數的元素。\n",
    "print(s[s%2==1])\n",
    "#(f)將s裡的偶數設為100。\n",
    "s[s%2==0]=100"
   ]
  },
  {
   "cell_type": "markdown",
   "metadata": {},
   "source": [
    "## 2.設字典𝑑𝑖𝑐0的鍵值分別為'Apple' ，'Orange'，'Pinapple'值分別為25,36,62，其中鍵值表品項，值代表價錢。試以dic0建立一個Series物件s，然後依序完成下列各題:"
   ]
  },
  {
   "cell_type": "code",
   "execution_count": 22,
   "metadata": {},
   "outputs": [
    {
     "name": "stdout",
     "output_type": "stream",
     "text": [
      "Kiwi    62\n",
      "dtype: int64\n",
      "61\n",
      "Orange    36\n",
      "Kiwi      62\n",
      "Apple     25\n",
      "dtype: int64\n",
      "Orange    36\n",
      "Kiwi      62\n",
      "Apple     25\n",
      "dtype: int64\n",
      "Orange    36\n",
      "Kiwi      62\n",
      "Apple     25\n",
      "dtype: int64\n",
      "Apple      50\n",
      "Kiwi      124\n",
      "Orange     72\n",
      "dtype: int64\n"
     ]
    }
   ],
   "source": [
    "dic0={'Apple':25,'Orange':36,'Kiwi':62}\n",
    "s=pd.Series(dic0)\n",
    "#(a)提取價格大於50的品項\n",
    "print(s[s>50])\n",
    "#(b)計算s中，Apple和Orange的總價格和。\n",
    "print(s['Apple']+s['Orange'])\n",
    "#(c)試由字典dict0建立一個Series s2，並指定索引為'Orange'、'Kiwi'、'Apple'。\n",
    "s2=pd.Series(dic0,index=['Orange','Kiwi','Apple'])\n",
    "print(s2)\n",
    "#(d)試找出s2中，值有缺失的品項，並將它們的值設為30，然後設定給s3存放。\n",
    "s3=s2.fillna(30)\n",
    "print(s3)\n",
    "#(e)將s2中缺失值捨去。\n",
    "s2=s2.dropna()\n",
    "print(s2)\n",
    "#(f)試計算s3與s的加總。有哪些品項的值為NaN?為什麼會得到NaN這個結果?\n",
    "print(s3+s)\n",
    "#沒有NaN的品項，因為s3的缺失值已經被填補了"
   ]
  },
  {
   "cell_type": "markdown",
   "metadata": {},
   "source": [
    "## 3.𝑎𝑟𝑟=[[78,34,29,76],[12,40,12,90],[33,10,65,20]]，試依序作答下列問題："
   ]
  },
  {
   "cell_type": "code",
   "execution_count": 23,
   "metadata": {},
   "outputs": [
    {
     "name": "stdout",
     "output_type": "stream",
     "text": [
      "    0   1   2   3\n",
      "1  12  40  12  90\n",
      "2  33  10  65  20\n",
      "[[78, 34, 29], [12, 40, 12], [33, 10, 65]]\n",
      "12\n"
     ]
    }
   ],
   "source": [
    "𝑎𝑟𝑟=[[78,34,29,76],[12,40,12,90],[33,10,65,20]]\n",
    "#(a)以arr建立一個DataFrame物件d。\n",
    "d=pd.DataFrame(𝑎𝑟𝑟)\n",
    "#(b)顯示d的後兩筆資料。\n",
    "print(d.tail(2))\n",
    "#(c)設定d的列索引為a,b,c，欄位引為w,x,y,z。\n",
    "d.index=['a','b','c']\n",
    "d.columns=['w','x','y','z']\n",
    "#(d)提取d的前3個欄位引(即w、x、y)，並將他們轉換成串列。\n",
    "print(d.iloc[:,:3].values.tolist())\n",
    "#(e)提取列索引為b，欄位引為y的元素。\n",
    "print(d.loc['b','y'])"
   ]
  },
  {
   "cell_type": "markdown",
   "metadata": {},
   "source": [
    "## 12.2 Series和DataFrame的運算"
   ]
  },
  {
   "cell_type": "markdown",
   "metadata": {},
   "source": [
    "## 4.設𝑠=pd.Series([77,34,78,20,12,35]) ，是依序作答下列各題："
   ]
  },
  {
   "cell_type": "code",
   "execution_count": 24,
   "metadata": {},
   "outputs": [
    {
     "name": "stdout",
     "output_type": "stream",
     "text": [
      "0    77\n",
      "2    78\n",
      "3    20\n",
      "dtype: int64\n",
      "3    20\n",
      "4    12\n",
      "5    35\n",
      "dtype: int64\n",
      "0    77\n",
      "2    78\n",
      "dtype: int64\n",
      "36.0\n",
      "0    6006\n",
      "1    1190\n",
      "2    6162\n",
      "3     420\n",
      "4     156\n",
      "5    1260\n",
      "dtype: int64\n",
      "0    456533\n",
      "1     39304\n",
      "2    474552\n",
      "3      8000\n",
      "4      1728\n",
      "5     42875\n",
      "dtype: int64\n",
      "0    38.5\n",
      "1    17.0\n",
      "2    39.0\n",
      "3    10.0\n",
      "4     6.0\n",
      "5    17.5\n",
      "dtype: float64\n"
     ]
    }
   ],
   "source": [
    "s=pd.Series([77,34,78,20,12,35])\n",
    "#(a)提取s中，所引為0和2和3的元素。\n",
    "print(s[[0,2,3]])\n",
    "#(b)提取s的後3個元素。\n",
    "print(s[-3:])\n",
    "#(c)提取s中，大於60的元素。\n",
    "print(s[s>60])\n",
    "#(d)提取s中的偶數，並將它們平均。\n",
    "print(s[s%2==0].mean())\n",
    "#(e)計算s+s^2、s*s^2、s^2/(2*s)。\n",
    "print(s+s**2)\n",
    "print(s*s**2)\n",
    "print(s**2/(2*s))"
   ]
  },
  {
   "cell_type": "markdown",
   "metadata": {},
   "source": [
    "## 5.設𝑑𝑖𝑐0={'Java':  [87,65,26,89,67], 'C++': [63,98,66,89,80], 'Python': [78,25,76,43,69]}，是依序作答下列各題："
   ]
  },
  {
   "cell_type": "code",
   "execution_count": 25,
   "metadata": {},
   "outputs": [
    {
     "name": "stdout",
     "output_type": "stream",
     "text": [
      "   Java  C++  Python\n",
      "0    87   63      78\n",
      "1    65   98      25\n",
      "2    26   66      76\n",
      "3    89   89      43\n",
      "4    67   80      69\n",
      "      Java  C++  Python\n",
      "Tom     87   63      78\n",
      "Bob     65   98      25\n",
      "Tim     26   66      76\n",
      "Wien    89   89      43\n",
      "Lily    67   80      69\n"
     ]
    }
   ],
   "source": [
    "dic0={'Java':[87,65,26,89,67],'C++':[63,98,66,89,80],'Python':[78,25,76,43,69]}\n",
    "#(a)試以字典dic0建立一個DataFrame物件d。\n",
    "d=pd.DataFrame(dic0)\n",
    "print(d)\n",
    "#(b)以字串串列['Tom','Bob','Tim','Wien','Lily']作為d的列索引。\n",
    "d.index=['Tom','Bob','Tim','Wien','Lily']\n",
    "print(d)"
   ]
  },
  {
   "cell_type": "markdown",
   "metadata": {},
   "source": [
    "## 6.接續習題5建立的DataFrame物件d，是依序作答下列各題："
   ]
  },
  {
   "cell_type": "code",
   "execution_count": 26,
   "metadata": {},
   "outputs": [
    {
     "name": "stdout",
     "output_type": "stream",
     "text": [
      "      Java  C++  Python\n",
      "Tim     26   66      76\n",
      "Wien    89   89      43\n",
      "Tom     78\n",
      "Bob     25\n",
      "Tim     76\n",
      "Wien    43\n",
      "Lily    69\n",
      "Name: Python, dtype: int64\n",
      "69\n",
      "Python    78\n",
      "C++       63\n",
      "Name: Tom, dtype: int64\n",
      "      Python  C++\n",
      "Tom       78   63\n",
      "Bob       25   98\n",
      "Tim       76   66\n",
      "Wien      43   89\n",
      "Lily      69   80\n"
     ]
    }
   ],
   "source": [
    "#(a)提取Tim和Wien的所有成績。\n",
    "print(d.loc[['Tim','Wien']])\n",
    "#(b)提取所有學生的Python成績。\n",
    "print(d['Python'])\n",
    "#(c)提取Lily的Python成績。\n",
    "print(d.loc['Lily','Python'])\n",
    "#(d)提取Tom的Python和C++的成績。\n",
    "print(d.loc['Tom',['Python','C++']])\n",
    "#(e)提取所有學生的Python和C++的成績。\n",
    "print(d.loc[:,['Python','C++']])"
   ]
  },
  {
   "cell_type": "markdown",
   "metadata": {},
   "source": [
    "## 7.接續習題5建立的DataFrame物件d，是依序作答下列各題："
   ]
  },
  {
   "cell_type": "code",
   "execution_count": 36,
   "metadata": {},
   "outputs": [
    {
     "name": "stdout",
     "output_type": "stream",
     "text": [
      "      Java  C++  Python\n",
      "Tom     87   63      78\n",
      "Tim     26   66      76\n",
      "Lily    67   80      69\n",
      "      Java  C++  Python\n",
      "Tom     87   63      78\n",
      "Lily    67   80      69\n",
      "      Java  C++  Python\n",
      "Bob     65   98      25\n",
      "Wien    89   89      43\n",
      "C++       66\n",
      "Python    76\n",
      "Name: Tim, dtype: int64\n",
      "      C++\n",
      "Tom    63\n",
      "Bob    98\n",
      "Tim    66\n",
      "Wien   89\n",
      "Lily   80\n"
     ]
    }
   ],
   "source": [
    "#(a)列出Python大於等於60分的學生。\n",
    "print(d[d['Python']>=60])\n",
    "#(b)列出所有科目都大於等於60分的學生。\n",
    "print(d[(d['Python']>=60)&(d['Java']>=60)&(d['C++']>=60)])\n",
    "#(c)列出Python小於60分的學生。\n",
    "print(d[d['Python']<60])\n",
    "#(d)列出Tim所有大於等於60分的科目。\n",
    "print(d.loc['Tim'][d.loc['Tim']>=60])\n",
    "#(e)列出所有學生都及格的科目。\n",
    "print(d.loc[:,(d>=60).all()])"
   ]
  },
  {
   "cell_type": "markdown",
   "metadata": {},
   "source": [
    "## 8.接續習題5建立的DataFrame物件d，試依續作答下列各題："
   ]
  },
  {
   "cell_type": "code",
   "execution_count": 52,
   "metadata": {},
   "outputs": [
    {
     "name": "stdout",
     "output_type": "stream",
     "text": [
      "      Python  C++  Java\n",
      "Bob       65   98    25\n",
      "Lily      67   80    69\n",
      "Tim       26   66    76\n",
      "Tom       87   63    78\n",
      "Wien      89   89    43\n",
      "      Python  C++  Java\n",
      "Bob       65   98    25\n",
      "Lily      67   80    69\n",
      "Tim       26   66    76\n",
      "Tom       87   63    78\n",
      "Wien      60   89    43\n",
      "      Python  C++  Java\n",
      "Bob       75   99    35\n",
      "Lily      77   90    79\n",
      "Tim       36   76    86\n",
      "Tom       97   73    88\n",
      "Wien      99   99    53\n",
      "     Python   C++  Java\n",
      "Bob    81.0  99.0  50.0\n",
      "Tim    51.0  81.0  87.0\n"
     ]
    }
   ],
   "source": [
    "#(a)將d的欄位引順序改為Python、C++、Java，並把結果設給d2存放。\n",
    "d.columns=['Python','C++','Java']\n",
    "d2=d\n",
    "#(b)將d2的列索引按學生名字之英文字母的次序排序，並把結果設給d3存放。\n",
    "d3=d2.sort_index()\n",
    "print(d3)\n",
    "#(c)使用copy()函數將d3複製給d4。於d4中，將Wien的Python成績改為60。\n",
    "d4=d3.copy()\n",
    "d4.loc['Wien','Python']=60\n",
    "print(d4)\n",
    "#(d)將d3拷貝一份給d5。於d5中，將每位學生的成績加10分，超過99分以99分計。\n",
    "d5=d3.copy()\n",
    "d5=d5+10\n",
    "d5[d5>99]=99\n",
    "print(d5)\n",
    "#(e)將d3拷貝一份給d6。於d6中，將每位學生的成績開根號乘以10之後四捨五入到整數，然後列出任一科目少於60分的學生。\n",
    "d6=d3.copy()\n",
    "d6=round((np.sqrt(d6))*10)\n",
    "print(d6[(d6['Python']<60) | (d6['C++']<60) | (d6['Java']<60)])"
   ]
  },
  {
   "cell_type": "markdown",
   "metadata": {},
   "source": [
    "## 12.3排序與統計函數"
   ]
  },
  {
   "cell_type": "markdown",
   "metadata": {},
   "source": [
    "## 9.設𝑠=pd.Series([34, 35, 12, 88, 99, 16], index=list('abcdef'))，依序作答下列各題： "
   ]
  },
  {
   "cell_type": "code",
   "execution_count": 67,
   "metadata": {},
   "outputs": [
    {
     "name": "stdout",
     "output_type": "stream",
     "text": [
      "e    99\n",
      "d    88\n",
      "b    35\n",
      "a    34\n",
      "f    16\n",
      "c    12\n",
      "dtype: int64\n",
      "f    16\n",
      "e    99\n",
      "d    88\n",
      "c    12\n",
      "b    35\n",
      "a    34\n",
      "dtype: int64\n"
     ]
    }
   ],
   "source": [
    "s=pd.Series([34, 35, 12, 88, 99, 16], index=list('abcdef'))\n",
    "#(a)試將s由大到小排序。\n",
    "print(s.sort_values(ascending=False))\n",
    "#(b)試將s依其索引從f到a排序。\n",
    "print(s.sort_index(ascending=False))"
   ]
  },
  {
   "cell_type": "markdown",
   "metadata": {},
   "source": [
    "## 10.設𝑑=pd.DataFrame([[4,5,3], [3,9,1]], columns=['M', 'L', 'XL'], index=['a', 'b'])，試依序作答下列各題："
   ]
  },
  {
   "cell_type": "code",
   "execution_count": 66,
   "metadata": {},
   "outputs": [
    {
     "name": "stdout",
     "output_type": "stream",
     "text": [
      "   L  M  XL\n",
      "a  5  4   3\n",
      "b  9  3   1\n",
      "   L  M  XL\n",
      "a  5  4   3\n",
      "b  9  3   1\n",
      "   M  L  XL\n",
      "b  3  9   1\n",
      "a  4  5   3\n"
     ]
    }
   ],
   "source": [
    "d=pd.DataFrame([[4,5,3], [3,9,1]], columns=['M', 'L', 'XL'], index=['a', 'b'])\n",
    "#(a)將索引值為a之列的元素值由大到小排序，然後以此結果排序d的每一欄。\n",
    "print(d.sort_values(by='a',axis=1,ascending=False))\n",
    "#(b)將d以欄索引的字元編碼順序來排序(編碼小的排在前面)。\n",
    "print(d.sort_index(axis=1))\n",
    "#(c)將d以列索引的字元編碼順序反向排序(編碼大的排在前面)。\n",
    "print(d.sort_index(axis=0,ascending=False))"
   ]
  },
  {
   "cell_type": "markdown",
   "metadata": {},
   "source": [
    "## 11.設𝑑=pd.DataFrame([[40, 50, 36], [12, 19, 21]], columns=['a', 'b', 'c'])，試依序作答下列各題："
   ]
  },
  {
   "cell_type": "code",
   "execution_count": 56,
   "metadata": {},
   "outputs": [
    {
     "name": "stdout",
     "output_type": "stream",
     "text": [
      "a    26.0\n",
      "b    34.5\n",
      "c    28.5\n",
      "dtype: float64\n",
      "178\n",
      "a    19.798990\n",
      "b    21.920310\n",
      "c    10.606602\n",
      "dtype: float64\n"
     ]
    }
   ],
   "source": [
    "𝑑=pd.DataFrame([[40, 50, 36], [12, 19, 21]], columns=['a', 'b', 'c'])\n",
    "#(a)分別計算d的每一列和每一欄的平均值。\n",
    "print(d.mean(axis=0))\n",
    "#(b)計算d中，所有元素的加總。\n",
    "print(d.sum().sum())\n",
    "#(c)計算d每一欄之元素的標準差。\n",
    "print(d.std(axis=0))"
   ]
  },
  {
   "cell_type": "markdown",
   "metadata": {},
   "source": [
    "## 12.4 Pandas的繪圖函數"
   ]
  },
  {
   "cell_type": "markdown",
   "metadata": {},
   "source": [
    "## 12.設𝑠=pd.Series([28, 88, 12, 76, 89], index=list('abcde'))，試利用Series物件𝑠呼叫plot()來繪出圓餅圖，在圓餅圖的每一個份額標上百分點比例到小數點以下第一位。"
   ]
  },
  {
   "cell_type": "code",
   "execution_count": 60,
   "metadata": {},
   "outputs": [
    {
     "data": {
      "image/png": "[encoded data removed]",
      "text/plain": [
       "<Figure size 640x480 with 1 Axes>"
      ]
     },
     "metadata": {},
     "output_type": "display_data"
    }
   ],
   "source": [
    "import matplotlib.pyplot as plt\n",
    "𝑠=pd.Series([28, 88, 12, 76, 89], index=list('abcde'))\n",
    "fig,ax=plt.subplots()\n",
    "ax.pie(s,labels=s.index,autopct='%1.1f%%')\n",
    "plt.show()"
   ]
  },
  {
   "cell_type": "markdown",
   "metadata": {},
   "source": [
    "## 13. 試將上題改以長條圖來繪製，圖形標題為'Bar chart' 。"
   ]
  },
  {
   "cell_type": "code",
   "execution_count": 58,
   "metadata": {},
   "outputs": [
    {
     "data": {
      "image/png": "[encoded data removed]",
      "text/plain": [
       "<Figure size 640x480 with 1 Axes>"
      ]
     },
     "metadata": {},
     "output_type": "display_data"
    }
   ],
   "source": [
    "fig,ax=plt.subplots()\n",
    "ax.bar(s.index,s.values)\n",
    "ax.title.set_text('Bar Chart')\n",
    "plt.show()"
   ]
  },
  {
   "cell_type": "markdown",
   "metadata": {},
   "source": [
    "## 12.5存取csv檔與pickle檔"
   ]
  },
  {
   "cell_type": "markdown",
   "metadata": {},
   "source": [
    "## 14.設𝑠=pd.Series([34,76,33,78],index = list('abcd'))，依序作答下列各題："
   ]
  },
  {
   "cell_type": "code",
   "execution_count": 65,
   "metadata": {},
   "outputs": [
    {
     "name": "stdout",
     "output_type": "stream",
     "text": [
      "  Unnamed: 0   0\n",
      "0          a  34\n",
      "1          b  76\n",
      "2          c  33\n",
      "3          d  78\n",
      "a    34\n",
      "b    76\n",
      "c    33\n",
      "d    78\n",
      "dtype: int64\n"
     ]
    }
   ],
   "source": [
    "s=pd.Series([34,76,33,78],index = list('abcd'))\n",
    "#(a)試將s寫入csv檔，檔名為test.csv。寫入之後，試讀取test.csv的內容。\n",
    "s.to_csv('test.csv')\n",
    "s2=pd.read_csv('test.csv')\n",
    "print(s2)\n",
    "#(b)試將s寫入pickle檔，檔名為test.pkl。寫入之後，試讀取test.pkl的內容。\n",
    "s.to_pickle('test.pkl')\n",
    "s3=pd.read_pickle('test.pkl')\n",
    "print(s3)"
   ]
  },
  {
   "cell_type": "markdown",
   "metadata": {},
   "source": [
    "## 15.設𝑑=pd.DataFrame([[4, 5, 3, 2], [3, 9, 1, 8]], columns=['S', 'M', 'L', 'XL'], index=['a', 'b'])，試依序作答下列各題："
   ]
  },
  {
   "cell_type": "code",
   "execution_count": 64,
   "metadata": {},
   "outputs": [
    {
     "name": "stdout",
     "output_type": "stream",
     "text": [
      "  Unnamed: 0  S  M  L  XL\n",
      "0          a  4  5  3   2\n",
      "1          b  3  9  1   8\n",
      "     L  XL\n",
      "S M       \n",
      "4 5  3   2\n",
      "3 9  1   8\n",
      "   S  M  L  XL\n",
      "a  4  5  3   2\n",
      "b  3  9  1   8\n",
      "      S     M     L    XL\n",
      "a  True  True  True  True\n",
      "b  True  True  True  True\n"
     ]
    }
   ],
   "source": [
    "d=pd.DataFrame([[4, 5, 3, 2], [3, 9, 1, 8]], columns=['S', 'M', 'L', 'XL'], index=['a', 'b'])\n",
    "#(a)試將d寫入csv檔(包含列索引和欄索引)，檔名為size.csv。寫入之後，試讀取size.csv的內容以驗證正確性。\n",
    "d.to_csv('size.csv')\n",
    "d2=pd.read_csv('size.csv')\n",
    "print(d2)\n",
    "#(b)試將d寫入一個csv檔，但不包含列索引和欄索引，檔名為size2.csv。寫入之後，試讀取size2.csv的內容，將讀取的內容設為g，並為g添加上列索引a、b和欄索引S、M、L和XL。\n",
    "d.to_csv('size2.csv',index=False,header=False)\n",
    "g=pd.read_csv('size2.csv',names=['S','M','L','XL'],index_col=[0,1])\n",
    "print(g)\n",
    "#(c)試將d寫入一個pickle檔，檔名為size.pkl。寫入之後，試讀取size.pkl這個檔案，看得到的結果是否與d相同。\n",
    "d.to_pickle('size.pkl')\n",
    "d3=pd.read_pickle('size.pkl')\n",
    "print(d3)\n",
    "print(d==d3)"
   ]
  }
 ],
 "metadata": {
  "kernelspec": {
   "display_name": "Python 3",
   "language": "python",
   "name": "python3"
  },
  "language_info": {
   "codemirror_mode": {
    "name": "ipython",
    "version": 3
   },
   "file_extension": ".py",
   "mimetype": "text/x-python",
   "name": "python",
   "nbconvert_exporter": "python",
   "pygments_lexer": "ipython3",
   "version": "3.11.4"
  }
 },
 "nbformat": 4,
 "nbformat_minor": 2
}
